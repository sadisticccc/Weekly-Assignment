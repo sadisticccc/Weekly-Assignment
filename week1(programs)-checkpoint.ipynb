{
 "cells": [
  {
   "cell_type": "code",
   "execution_count": 2,
   "id": "472a4026",
   "metadata": {},
   "outputs": [
    {
     "name": "stdout",
     "output_type": "stream",
     "text": [
      "hello world!\n"
     ]
    }
   ],
   "source": [
    "#Q1\n",
    "print(\"Hello world!\")"
   ]
  },
  {
   "cell_type": "code",
   "execution_count": 4,
   "id": "ec2820e4",
   "metadata": {},
   "outputs": [
    {
     "name": "stdout",
     "output_type": "stream",
     "text": [
      "Hello sadikshya!\n"
     ]
    }
   ],
   "source": [
    "#Q2\n",
    "name = \"sadikshya!\"\n",
    "print(f\"Hello {name}\")"
   ]
  },
  {
   "cell_type": "code",
   "execution_count": 12,
   "id": "507675e0",
   "metadata": {},
   "outputs": [
    {
     "name": "stdout",
     "output_type": "stream",
     "text": [
      "Temperature in celsius is: 38.9\n",
      "Temperature in fahrenheit is: 102.02\n"
     ]
    }
   ],
   "source": [
    "#Q3\n",
    "celsius = 38.4\n",
    "Fahrenheit_Temperature = (1.8 * celsius) + 32\n",
    "print(f\"Temperature in celsius is: {celsius}\")\n",
    "print(f\"Temperature in fahrenheit is: {Fahrenheit_Temperature}\")\n"
   ]
  },
  {
   "cell_type": "code",
   "execution_count": 20,
   "id": "69d4fea0",
   "metadata": {},
   "outputs": [
    {
     "name": "stdout",
     "output_type": "stream",
     "text": [
      "The Batting average of the man is: 56.83802816901409 in 609 matches.\n"
     ]
    }
   ],
   "source": [
    "#Q4\n",
    "Matches_played= 609\n",
    "Batted = 1014\n",
    "Not_out = 162\n",
    "Scored = 48426\n",
    "Batting_average =Scored/(Batted-Not_out)\n",
    "print(f\"The Batting average of the man is: {Batting_average} in {Matches_played} matches.\")"
   ]
  },
  {
   "cell_type": "code",
   "execution_count": 7,
   "id": "962c9e8e",
   "metadata": {},
   "outputs": [
    {
     "name": "stdout",
     "output_type": "stream",
     "text": [
      "The total number of students in a group is: 11\n",
      "The remaining numbers of student in group 1 is: 36\n"
     ]
    }
   ],
   "source": [
    "#Q5\n",
    "Num_1 = 113\n",
    "Num_2 = 175\n",
    "Num_3 = 12\n",
    "group_1 = Num_1//24\n",
    "group_2 = Num_2//24\n",
    "group_3 = Num_3//24\n",
    "total = group_1 + group_2 + group_3\n",
    "rem_1 = Num_1 % 24\n",
    "rem_2 = Num_2 % 24\n",
    "rem_3 = Num_3 % 24\n",
    "total_rem = rem_1 + rem_2 + rem_3\n",
    "print(f\"The total number of students in a group is: {total}\")\n",
    "print(f\"The remaining numbers of student in group 1 is: {total_rem}\")"
   ]
  },
  {
   "cell_type": "markdown",
   "id": "73cf6e0f",
   "metadata": {},
   "source": [
    "Thankyou!"
   ]
  }
 ],
 "metadata": {
  "kernelspec": {
   "display_name": "Python 3 (ipykernel)",
   "language": "python",
   "name": "python3"
  },
  "language_info": {
   "codemirror_mode": {
    "name": "ipython",
    "version": 3
   },
   "file_extension": ".py",
   "mimetype": "text/x-python",
   "name": "python",
   "nbconvert_exporter": "python",
   "pygments_lexer": "ipython3",
   "version": "3.9.13"
  }
 },
 "nbformat": 4,
 "nbformat_minor": 5
}

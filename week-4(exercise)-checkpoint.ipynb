{
 "cells": [
  {
   "cell_type": "markdown",
   "id": "06965b6d",
   "metadata": {},
   "source": [
    "What must be done before a function that is not built-in to Python can be used in a program?\n",
    "Ans = use the import function to import it."
   ]
  },
  {
   "cell_type": "code",
   "execution_count": 4,
   "id": "4e5bd69c",
   "metadata": {},
   "outputs": [
    {
     "name": "stdout",
     "output_type": "stream",
     "text": [
      "0.4121184852417566\n"
     ]
    }
   ],
   "source": [
    "#Given the following import statement, how would a call to the sin() function be made?\n",
    "import math \n",
    "\n",
    "number = 9\n",
    "result = math.sin(number)\n",
    "\n",
    "print(result)\n",
    "\n",
    "#Ans = Third line will simply call the function sin().i.e result = math.sin(number)"
   ]
  },
  {
   "cell_type": "code",
   "execution_count": 5,
   "id": "b5298322",
   "metadata": {},
   "outputs": [
    {
     "name": "stdout",
     "output_type": "stream",
     "text": [
      "5.0\n"
     ]
    }
   ],
   "source": [
    "#Given the following import statement, how would a call to the sqrt() function be made?\n",
    "from math import sqrt\n",
    "\n",
    "num = 25\n",
    "result = sqrt(num)\n",
    "\n",
    "print(result)"
   ]
  },
  {
   "cell_type": "markdown",
   "id": "5b3b6119",
   "metadata": {},
   "source": [
    "What is the name of the common library that is available with all Python distributions?\n",
    "The Python Standard library."
   ]
  },
  {
   "cell_type": "markdown",
   "id": "e94f81bb",
   "metadata": {},
   "source": [
    "What keyword is used in Python to define a new function?\n",
    "def "
   ]
  },
  {
   "cell_type": "markdown",
   "id": "612273da",
   "metadata": {},
   "source": [
    "Write some Python code that defines a function called print_header(msg). This should\n",
    "output the value provided by the ‘msg’ parameter to the screen (prefixed by five asterisk\n",
    "‘*****’) characters."
   ]
  },
  {
   "cell_type": "code",
   "execution_count": 12,
   "id": "3eb4d7a7",
   "metadata": {},
   "outputs": [
    {
     "name": "stdout",
     "output_type": "stream",
     "text": [
      "***** Hello, This is a Header *****\n"
     ]
    }
   ],
   "source": [
    "def print_header(msg):\n",
    "    print(\"*****\", msg, \"*****\")\n",
    "\n",
    "print_header(\"Hello, This is a Header\")"
   ]
  },
  {
   "cell_type": "markdown",
   "id": "697c3021",
   "metadata": {},
   "source": [
    "In the answer box below give an example of what the docstring may look like for the\n",
    "print_header(msg) function.\n",
    "'''this is a function named print_header with one parameter.'''"
   ]
  },
  {
   "cell_type": "markdown",
   "id": "c49b02cc",
   "metadata": {},
   "source": [
    "Where within a function definition should a docstring appear?\n",
    "In the first line of the code after defining a function."
   ]
  },
  {
   "cell_type": "markdown",
   "id": "acf0d5d2",
   "metadata": {},
   "source": [
    "What statement should appear within a function’s code block to cause a specific value to be\n",
    "passed back to the caller of the function?\n",
    "Ans = A return statement"
   ]
  },
  {
   "cell_type": "code",
   "execution_count": 18,
   "id": "7e37c386",
   "metadata": {},
   "outputs": [
    {
     "name": "stdout",
     "output_type": "stream",
     "text": [
      "the minimum value is 45\n"
     ]
    }
   ],
   "source": [
    " #Write some Python code that defines a function called find_min(a,b) that returns the\n",
    "# smallest of the two given parameter values.\n",
    "def find_min(a,b):\n",
    "    return min(a,b)\n",
    "\n",
    "result = find_min(67,45)\n",
    "print(\"The minimum value is\", result)\n"
   ]
  },
  {
   "cell_type": "markdown",
   "id": "01a0a6cc",
   "metadata": {},
   "source": [
    "Given the following function definition, which of the formal parameters could be described as\n",
    "being a default argument?\n",
    "def shouldContinue(prompt, answer=False):\n",
    "    \n",
    "Ans = answer"
   ]
  },
  {
   "cell_type": "code",
   "execution_count": 1,
   "id": "d8f6b312",
   "metadata": {},
   "outputs": [
    {
     "name": "stdout",
     "output_type": "stream",
     "text": [
      "Do you want to continue? (yes/no) yes\n",
      "Result with default argument: True\n",
      "Do you want to continue? (yes/no) no\n",
      "Result without default argument: False\n"
     ]
    }
   ],
   "source": [
    "#Provide two example calls to the above function, one which provides a value for the default argument, and one that does not.\n",
    "def shouldContinue(prompt, answer=False):\n",
    "    user_input = input(prompt)\n",
    "    \n",
    "    if user_input.lower() == \"yes\":\n",
    "        return True\n",
    "    elif user_input.lower() == \"no\":\n",
    "        return False\n",
    "    else:\n",
    "        return answer\n",
    "\n",
    "\n",
    "result_with_default = shouldContinue(\"Do you want to continue? (yes/no) \", answer=True)\n",
    "print(\"Result with default argument:\", result_with_default)\n",
    "\n",
    "result_without_default = shouldContinue(\"Do you want to continue? (yes/no) \")\n",
    "print(\"Result without default argument:\", result_without_default)\n"
   ]
  },
  {
   "cell_type": "markdown",
   "id": "6bd55f56",
   "metadata": {},
   "source": [
    "State why following function definition would not be allowed.\n",
    "def do_something(prefix=\"Message\", prompt, answer=False):\n",
    "# function body...\n",
    "Ans = Default arguments are always assigned from right to left."
   ]
  },
  {
   "cell_type": "markdown",
   "id": "f27f64a6",
   "metadata": {},
   "source": [
    "What single character is placed directly before the name of a formal parameter, to indicate\n",
    "that a variable number of actual parameters can be passed when the function is called?\n",
    "Ans = *"
   ]
  },
  {
   "cell_type": "markdown",
   "id": "de9806fb",
   "metadata": {},
   "source": [
    "What commonly used built-in function, which displays output on the screen, can take a\n",
    "variable number of arguments?\n",
    "Ans = print()"
   ]
  },
  {
   "cell_type": "markdown",
   "id": "164acf53",
   "metadata": {},
   "source": [
    "Is it valid for a function’s parameter name to be prefixed by two asterisk characters ‘**’ as\n",
    "shown below?\n",
    "def send_output(**details):\n",
    "# function body...\n",
    "Ans = yes"
   ]
  },
  {
   "cell_type": "markdown",
   "id": "5585fbee",
   "metadata": {},
   "source": [
    "If present, what does this prefix indicate?\n",
    "Arbitary Keyword."
   ]
  },
  {
   "cell_type": "markdown",
   "id": "873888af",
   "metadata": {},
   "source": [
    "What is the name given to a small ‘anonymous’ function that must be defined using a single expression?\n",
    "Lambda expression."
   ]
  },
  {
   "cell_type": "code",
   "execution_count": 2,
   "id": "791829c1",
   "metadata": {},
   "outputs": [
    {
     "name": "stdout",
     "output_type": "stream",
     "text": [
      "729\n"
     ]
    }
   ],
   "source": [
    "#Give an example of such a function that calculates the cube of a given number (i.e. the valueof the number raised to the power of three) -\n",
    "number = lambda x:x**3\n",
    "print(number(9))"
   ]
  }
 ],
 "metadata": {
  "kernelspec": {
   "display_name": "Python 3 (ipykernel)",
   "language": "python",
   "name": "python3"
  },
  "language_info": {
   "codemirror_mode": {
    "name": "ipython",
    "version": 3
   },
   "file_extension": ".py",
   "mimetype": "text/x-python",
   "name": "python",
   "nbconvert_exporter": "python",
   "pygments_lexer": "ipython3",
   "version": "3.9.13"
  }
 },
 "nbformat": 4,
 "nbformat_minor": 5
}

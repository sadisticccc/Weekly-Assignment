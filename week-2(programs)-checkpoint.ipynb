{
 "cells": [
  {
   "cell_type": "code",
   "execution_count": 10,
   "id": "2810142d",
   "metadata": {},
   "outputs": [
    {
     "name": "stdout",
     "output_type": "stream",
     "text": [
      "Hello, What is your name? sadi\n",
      "Sadi, Good to meet you!\n"
     ]
    }
   ],
   "source": [
    "#Q1\n",
    "User_name = input(\"Hello, What is your name? \")\n",
    "User_name = User_name.capitalize() \n",
    "Greetings = f\"{User_name}, Good to meet you!\"\n",
    "print(Greetings)"
   ]
  },
  {
   "cell_type": "code",
   "execution_count": 14,
   "id": "11ed54f2",
   "metadata": {},
   "outputs": [
    {
     "name": "stdout",
     "output_type": "stream",
     "text": [
      "Enter the temperature: 45.9\n",
      " 45.9 is equivalent to 114.62\n"
     ]
    }
   ],
   "source": [
    "#Q2\n",
    "celsius = float(input(\"Enter the temperature: \"))\n",
    "Temperature = (1.8 * celsius) + 32;\n",
    "print(f\" {celsius} is equivalent to {Temperature}\")"
   ]
  },
  {
   "cell_type": "code",
   "execution_count": 4,
   "id": "3e1fae9a",
   "metadata": {},
   "outputs": [
    {
     "name": "stdout",
     "output_type": "stream",
     "text": [
      "Enter the number of students: 101\n",
      "Enter the size of group: 20\n",
      "There will be 5 groups with 1 student leftover.\n"
     ]
    }
   ],
   "source": [
    "#Q3\n",
    "num_of_students = int(input(\"Enter the number of students: \"))\n",
    "group_size = int(input(\"Enter the size of group: \"))\n",
    "Needed = num_of_students // group_size\n",
    "left_over = num_of_students % group_size\n",
    "if Needed == 1 and left_over != 1:\n",
    "    print(f\"There will be {Needed} group with {left_over} students leftover.\")\n",
    "elif Needed != 1 and left_over == 1:\n",
    "    print(f\"There will be {Needed} groups with {left_over} student leftover.\")\n",
    "elif Needed == 1 and left_over == 1:\n",
    "    print(f\"There will be {Needed} group with {left_over} student leftover.\")\n",
    "else:\n",
    "    print(f\"There will be {Needed} groups with {left_over} students leftover.\")"
   ]
  },
  {
   "cell_type": "code",
   "execution_count": 6,
   "id": "8fdfb3f8",
   "metadata": {},
   "outputs": [
    {
     "name": "stdout",
     "output_type": "stream",
     "text": [
      "enter the number of sweets: 67\n",
      "Enter the number of students: 9\n",
      "Give 7 to each of them then you have 4 left over candies with you.\n"
     ]
    }
   ],
   "source": [
    "#Q4\n",
    "sweets = int(input(\"enter the number of sweets: \"))\n",
    "students = int(input(\"Enter the number of students: \"))\n",
    "distribute = sweets // students\n",
    "left_over = sweets % students\n",
    "print(f\"Give {distribute} to each of them then you have {left_over} left over candies with you.\")"
   ]
  },
  {
   "cell_type": "markdown",
   "id": "7ee9b7d4",
   "metadata": {},
   "source": [
    "Thankyou!"
   ]
  }
 ],
 "metadata": {
  "kernelspec": {
   "display_name": "Python 3 (ipykernel)",
   "language": "python",
   "name": "python3"
  },
  "language_info": {
   "codemirror_mode": {
    "name": "ipython",
    "version": 3
   },
   "file_extension": ".py",
   "mimetype": "text/x-python",
   "name": "python",
   "nbconvert_exporter": "python",
   "pygments_lexer": "ipython3",
   "version": "3.9.13"
  }
 },
 "nbformat": 4,
 "nbformat_minor": 5
}

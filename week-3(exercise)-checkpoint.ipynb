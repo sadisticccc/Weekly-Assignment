{
 "cells": [
  {
   "cell_type": "markdown",
   "id": "7db62dcb",
   "metadata": {},
   "source": [
    "What is the data-type of the result when evaluating comparison (relational) expressions such\n",
    "as < and >?\n",
    "Boolean"
   ]
  },
  {
   "cell_type": "code",
   "execution_count": 1,
   "id": "0223f8f0",
   "metadata": {},
   "outputs": [
    {
     "data": {
      "text/plain": [
       "True"
      ]
     },
     "execution_count": 1,
     "metadata": {},
     "output_type": "execute_result"
    }
   ],
   "source": [
    "#For each of the following expressions write the result of their evaluation.\n",
    "100 < 101"
   ]
  },
  {
   "cell_type": "code",
   "execution_count": 2,
   "id": "eac19cfb",
   "metadata": {},
   "outputs": [
    {
     "data": {
      "text/plain": [
       "True"
      ]
     },
     "execution_count": 2,
     "metadata": {},
     "output_type": "execute_result"
    }
   ],
   "source": [
    "100 > 99"
   ]
  },
  {
   "cell_type": "code",
   "execution_count": 5,
   "id": "04f92fe5",
   "metadata": {},
   "outputs": [
    {
     "data": {
      "text/plain": [
       "True"
      ]
     },
     "execution_count": 5,
     "metadata": {},
     "output_type": "execute_result"
    }
   ],
   "source": [
    "100 >=100"
   ]
  },
  {
   "cell_type": "code",
   "execution_count": 6,
   "id": "a3c0931d",
   "metadata": {},
   "outputs": [
    {
     "data": {
      "text/plain": [
       "False"
      ]
     },
     "execution_count": 6,
     "metadata": {},
     "output_type": "execute_result"
    }
   ],
   "source": [
    "100!=100"
   ]
  },
  {
   "cell_type": "code",
   "execution_count": 7,
   "id": "04253a12",
   "metadata": {},
   "outputs": [
    {
     "data": {
      "text/plain": [
       "True"
      ]
     },
     "execution_count": 7,
     "metadata": {},
     "output_type": "execute_result"
    }
   ],
   "source": [
    "\"abc\"<\"xyz\""
   ]
  },
  {
   "cell_type": "code",
   "execution_count": 8,
   "id": "7a748163",
   "metadata": {},
   "outputs": [
    {
     "data": {
      "text/plain": [
       "False"
      ]
     },
     "execution_count": 8,
     "metadata": {},
     "output_type": "execute_result"
    }
   ],
   "source": [
    "\"abc\"<\"XYZ\""
   ]
  },
  {
   "cell_type": "code",
   "execution_count": 11,
   "id": "9e9841a8",
   "metadata": {},
   "outputs": [
    {
     "data": {
      "text/plain": [
       "False"
      ]
     },
     "execution_count": 11,
     "metadata": {},
     "output_type": "execute_result"
    }
   ],
   "source": [
    "\"100\" == 100"
   ]
  },
  {
   "cell_type": "code",
   "execution_count": 12,
   "id": "21b70df5",
   "metadata": {},
   "outputs": [
    {
     "data": {
      "text/plain": [
       "False"
      ]
     },
     "execution_count": 12,
     "metadata": {},
     "output_type": "execute_result"
    }
   ],
   "source": [
    "10>20 and 10>=10"
   ]
  },
  {
   "cell_type": "code",
   "execution_count": 13,
   "id": "857e38db",
   "metadata": {},
   "outputs": [
    {
     "data": {
      "text/plain": [
       "False"
      ]
     },
     "execution_count": 13,
     "metadata": {},
     "output_type": "execute_result"
    }
   ],
   "source": [
    "10>30>20"
   ]
  },
  {
   "cell_type": "code",
   "execution_count": 14,
   "id": "63cfc492",
   "metadata": {},
   "outputs": [
    {
     "data": {
      "text/plain": [
       "True"
      ]
     },
     "execution_count": 14,
     "metadata": {},
     "output_type": "execute_result"
    }
   ],
   "source": [
    "40<20 or 20<30"
   ]
  },
  {
   "cell_type": "code",
   "execution_count": 15,
   "id": "20ecabad",
   "metadata": {},
   "outputs": [
    {
     "data": {
      "text/plain": [
       "False"
      ]
     },
     "execution_count": 15,
     "metadata": {},
     "output_type": "execute_result"
    }
   ],
   "source": [
    "not True"
   ]
  },
  {
   "cell_type": "code",
   "execution_count": 16,
   "id": "dd89a946",
   "metadata": {},
   "outputs": [
    {
     "name": "stdout",
     "output_type": "stream",
     "text": [
      "The colour black is in the list :  True\n"
     ]
    }
   ],
   "source": [
    "#What would be the output shown following the execution of the following Python statements?\n",
    "colours = [ \"Blue\", \"Black\", \"Orange\" ]\n",
    "print(\"The colour black is in the list : \", \"Black\" in colours)"
   ]
  },
  {
   "cell_type": "code",
   "execution_count": 17,
   "id": "a2f8b2e2",
   "metadata": {},
   "outputs": [
    {
     "name": "stdout",
     "output_type": "stream",
     "text": [
      "The colour orange is in the list :  False\n"
     ]
    }
   ],
   "source": [
    "print(\"The colour orange is in the list : \", \"orange\" in colours)"
   ]
  },
  {
   "cell_type": "markdown",
   "id": "5a8644dc",
   "metadata": {},
   "source": [
    "Which of the following concepts does the Python ‘if’ statement support?\n",
    "Sequence, Selection or Iteration?\n",
    "Ans = Selection"
   ]
  },
  {
   "cell_type": "code",
   "execution_count": 19,
   "id": "fe3a24b2",
   "metadata": {},
   "outputs": [
    {
     "name": "stdout",
     "output_type": "stream",
     "text": [
      "num1 is divisible by num2\n"
     ]
    }
   ],
   "source": [
    "#What would be the output shown following the execution of the following Python statements?\n",
    "num1 = 100\n",
    "num2 = 10\n",
    "if num1 % num2 == 0:\n",
    "    print(\"num1 is divisible by num2\")\n",
    "else:\n",
    "    print(\"num1 is not divisible by num2\")"
   ]
  },
  {
   "cell_type": "code",
   "execution_count": 20,
   "id": "31dccea6",
   "metadata": {},
   "outputs": [
    {
     "name": "stdout",
     "output_type": "stream",
     "text": [
      "num1 is greater than num2\n"
     ]
    }
   ],
   "source": [
    "num1 = 99\n",
    "num2 = 70\n",
    "if num1 < num2:\n",
    "    print(\"num1 is less than num2\")\n",
    "elif num1 > num2:\n",
    "    print(\"num1 is greater than num2\")\n",
    "else:\n",
    "    print(\"num1 is equal to num2\")"
   ]
  },
  {
   "cell_type": "markdown",
   "id": "301ff459",
   "metadata": {},
   "source": [
    "What is the name given to the following type of Python operator shown below?\n",
    "lowest = x if x < y else y\n",
    "Ans = It is ternary operation."
   ]
  },
  {
   "cell_type": "markdown",
   "id": "31ac085c",
   "metadata": {},
   "source": [
    "And, what value would be assigned to the variable ‘lowest’ when ‘x’ was equal to 10 and\n",
    "‘y’ was equal to 5?\n",
    "Ans = y"
   ]
  },
  {
   "cell_type": "code",
   "execution_count": 25,
   "id": "0f1cd33c",
   "metadata": {},
   "outputs": [
    {
     "name": "stdout",
     "output_type": "stream",
     "text": [
      "please enter a number between 1 and 10 : 11\n",
      "The number is not between range.\n"
     ]
    }
   ],
   "source": [
    "# Within the answer box below write a small Python program, that asks the user to enter a\n",
    "# value between 1 and 10.\n",
    "# Once the value has been input display a message saying whether the value was in the\n",
    "# requested range.\n",
    "# Remember: values returned from the input() function are strings, and need converting\n",
    "# before being used within expressions, i.e. you will need code such as this -\n",
    "\n",
    "num = input(\"please enter a number between 1 and 10 : \")\n",
    "num = int(num)\n",
    "if num>10:\n",
    "    print(\"The number is not between range.\")"
   ]
  },
  {
   "cell_type": "code",
   "execution_count": 4,
   "id": "90c8bb6c",
   "metadata": {},
   "outputs": [
    {
     "name": "stdout",
     "output_type": "stream",
     "text": [
      "Enter the value for x: 4\n",
      "Enter the value for y: 6\n",
      "The value 6.0 is larger than the value 4.0.\n"
     ]
    }
   ],
   "source": [
    "x = float(input(\"Enter the value for x: \"))\n",
    "y = float(input(\"Enter the value for y: \"))\n",
    "\n",
    "if x > y:\n",
    "    print(f\"The value {x} is larger than the value {y}.\")\n",
    "else:\n",
    "    print(f\"The value {y} is larger than the value {x}.\")"
   ]
  },
  {
   "cell_type": "code",
   "execution_count": 14,
   "id": "8b7a9329",
   "metadata": {},
   "outputs": [
    {
     "name": "stdout",
     "output_type": "stream",
     "text": [
      "Enter the value for x: 0\n",
      "Enter the value for y: 8\n",
      "0.0\n",
      "division by 0 is not possible\n"
     ]
    }
   ],
   "source": [
    "# Within the answer box below write a small Python program that asks the user to enter two\n",
    "# values.\n",
    "# Store these values in two variables then output a message displaying the result of dividing\n",
    "# the first value by the second value.\n",
    "# Include code that prevents a run-time error being reported when the user inputs a value of '0'\n",
    "# for the second input. Hint: use an ‘if’ statement.\n",
    "    \n",
    "x = float(input(\"Enter the value for x: \"))\n",
    "y = float(input(\"Enter the value for y: \"))\n",
    "\n",
    "z = x/y\n",
    "print(z)\n",
    "\n",
    "if x==0 or y==0:\n",
    "    print(\"division by 0 is not possible\")"
   ]
  },
  {
   "cell_type": "markdown",
   "id": "6d6b81a9",
   "metadata": {},
   "source": [
    "Which of the following concepts does the Python while statement support?\n",
    "Sequence, Selection or Iteration?\n",
    "Ans = Iteration."
   ]
  },
  {
   "cell_type": "code",
   "execution_count": 1,
   "id": "bcd2a3cb",
   "metadata": {},
   "outputs": [
    {
     "name": "stdout",
     "output_type": "stream",
     "text": [
      "5\n",
      "4\n",
      "3\n",
      "2\n",
      "1\n"
     ]
    }
   ],
   "source": [
    "#What would be the output shown following the execution of the following Python statements?\n",
    "num = 5\n",
    "\n",
    "while num > 0:\n",
    "    print(num)\n",
    "    num -= 1"
   ]
  },
  {
   "cell_type": "code",
   "execution_count": null,
   "id": "fbaa4cb6",
   "metadata": {},
   "outputs": [],
   "source": [
    "count = 0\n",
    "\n",
    "while count < 100:\n",
    "    print(\"sadikshya\")"
   ]
  },
  {
   "cell_type": "code",
   "execution_count": 2,
   "id": "72886f24",
   "metadata": {},
   "outputs": [
    {
     "name": "stdout",
     "output_type": "stream",
     "text": [
      "A\n",
      "B\n",
      "C\n",
      "D\n"
     ]
    }
   ],
   "source": [
    "#What would be the output shown following the execution of the following Python statements?\n",
    "vals = [\"A\", \"B\", \"C\", \"D\"]\n",
    "\n",
    "for letter in vals:\n",
    "    print(letter)"
   ]
  },
  {
   "cell_type": "code",
   "execution_count": 4,
   "id": "f1ea87cf",
   "metadata": {},
   "outputs": [
    {
     "name": "stdout",
     "output_type": "stream",
     "text": [
      "0\n",
      "1\n",
      "2\n",
      "3\n",
      "4\n"
     ]
    }
   ],
   "source": [
    "#What would be the output shown following the execution of each of the following Python statements?\n",
    "for num in range(5):\n",
    "    print(num)"
   ]
  },
  {
   "cell_type": "code",
   "execution_count": 3,
   "id": "a4766074",
   "metadata": {},
   "outputs": [
    {
     "name": "stdout",
     "output_type": "stream",
     "text": [
      "10\n",
      "11\n",
      "12\n",
      "13\n",
      "14\n",
      "15\n"
     ]
    }
   ],
   "source": [
    "for num in range(10,16):\n",
    "    print(num)"
   ]
  },
  {
   "cell_type": "code",
   "execution_count": 6,
   "id": "69288029",
   "metadata": {},
   "outputs": [],
   "source": [
    "for num in range(0,10,-1):\n",
    "    print(num)"
   ]
  },
  {
   "cell_type": "code",
   "execution_count": 5,
   "id": "2ca3569c",
   "metadata": {},
   "outputs": [
    {
     "name": "stdout",
     "output_type": "stream",
     "text": [
      "\n",
      "*\n",
      "\n",
      "*\n",
      "*\n",
      "\n",
      "*\n",
      "*\n",
      "*\n",
      "\n",
      "*\n",
      "*\n",
      "*\n",
      "*\n",
      "\n",
      "*\n",
      "*\n",
      "*\n",
      "*\n",
      "*\n",
      "\n",
      "*\n",
      "*\n",
      "*\n",
      "*\n",
      "*\n",
      "*\n",
      "\n",
      "*\n",
      "*\n",
      "*\n",
      "*\n",
      "*\n",
      "*\n",
      "*\n",
      "\n",
      "*\n",
      "*\n",
      "*\n",
      "*\n",
      "*\n",
      "*\n",
      "*\n",
      "*\n",
      "\n"
     ]
    }
   ],
   "source": [
    "for x in range(1,10):\n",
    "    for y in range (1,x):\n",
    "        print(\"*\")\n",
    "    print()"
   ]
  },
  {
   "cell_type": "markdown",
   "id": "f8e331e0",
   "metadata": {},
   "source": [
    "What is the term used to refer to code blocks that appear inside other code blocks as in the\n",
    "above program?\n",
    "Nested loop."
   ]
  }
 ],
 "metadata": {
  "kernelspec": {
   "display_name": "Python 3 (ipykernel)",
   "language": "python",
   "name": "python3"
  },
  "language_info": {
   "codemirror_mode": {
    "name": "ipython",
    "version": 3
   },
   "file_extension": ".py",
   "mimetype": "text/x-python",
   "name": "python",
   "nbconvert_exporter": "python",
   "pygments_lexer": "ipython3",
   "version": "3.9.13"
  }
 },
 "nbformat": 4,
 "nbformat_minor": 5
}

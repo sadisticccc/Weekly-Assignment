{
 "cells": [
  {
   "cell_type": "markdown",
   "id": "07f475f6",
   "metadata": {},
   "source": [
    "When a Python program is stored within a text file (i.e. a script), what suffix should be used\n",
    "for the filename?\n",
    "\n",
    "-> .py"
   ]
  },
  {
   "cell_type": "markdown",
   "id": "846f8f4d",
   "metadata": {},
   "source": [
    "Is it necessary to use a special Integrated Development Environment (IDE) to write Python\n",
    "code in text files?\n",
    "\n",
    "-> No"
   ]
  },
  {
   "cell_type": "markdown",
   "id": "12fdd931",
   "metadata": {},
   "source": [
    "When a script is executed from a file, are the results of evaluating expressions automatically\n",
    "displayed on the screen without the need of a print() function call?\n",
    "\n",
    "-> No"
   ]
  },
  {
   "cell_type": "markdown",
   "id": "72537aca",
   "metadata": {},
   "source": [
    "What command would need to be typed in an operating system terminal window in order to\n",
    "execute a Python script called PrintNames.py?\n",
    "\n",
    "-> python3 PrintNames.py"
   ]
  },
  {
   "cell_type": "markdown",
   "id": "893e0c1e",
   "metadata": {},
   "source": [
    "What command would need to be typed in a terminal in order to pass the values \"John\",\n",
    "\"Eric\", \"Graham\" as command line arguments to the PrintNames.py script?\n",
    "\n",
    "-> python3 PrintNames.py John Eric Graham"
   ]
  },
  {
   "cell_type": "markdown",
   "id": "efef7380",
   "metadata": {},
   "source": [
    "When a Python script wishes to access command line arguments, what module needs to be\n",
    "imported?\n",
    "\n",
    " import sys"
   ]
  },
  {
   "cell_type": "markdown",
   "id": "493028b2",
   "metadata": {},
   "source": [
    "What is the data-type of the sys.argv variable?\n",
    "\n",
    "list"
   ]
  },
  {
   "cell_type": "markdown",
   "id": "cdf790a0",
   "metadata": {},
   "source": [
    "What is stored within the first element of the sys.argv variable?\n",
    "\n",
    " Name of the file"
   ]
  },
  {
   "cell_type": "code",
   "execution_count": null,
   "id": "872ba787",
   "metadata": {},
   "outputs": [],
   "source": [
    "# Use a text editor to write the script called PrintNames.py. This should display any\n",
    "# command line arguments that were passed during execution.\n",
    "# Once complete, place your solution in the answer box below.\n",
    "\n",
    "\n",
    "import sys\n",
    "parameters = sys.argv[1:]\n",
    "print(parameters)"
   ]
  },
  {
   "cell_type": "code",
   "execution_count": null,
   "id": "6aba5d6a",
   "metadata": {},
   "outputs": [],
   "source": [
    "# Improve the solution so it uses an if statement to check that at least one name was\n",
    "# passed, or otherwise print a message saying “no names provided”. Place your improved\n",
    "# solution in the answer box below.\n",
    "\n",
    "import sys\n",
    "if len(sys.argv) >= 2:\n",
    "    parameters = sys.argv[1:]\n",
    "    print(parameters)\n",
    "else:\n",
    "    print(\"No names provided\")"
   ]
  },
  {
   "cell_type": "markdown",
   "id": "5ce093e1",
   "metadata": {},
   "source": [
    "When using an import statement it is possible to provide an alias that can be used as an\n",
    "alternative name to access module content.\n",
    "Write an import statement that imports the whole of the sys module, and renames it to\n",
    "my_system.\n",
    "\n",
    "\n",
    "import sys as my_system"
   ]
  },
  {
   "cell_type": "markdown",
   "id": "2ae39050",
   "metadata": {},
   "source": [
    "Write a from..import statement that imports only the math.floor function, and renames it\n",
    "to lower\n",
    "\n",
    "from math import floor as lower"
   ]
  },
  {
   "cell_type": "markdown",
   "id": "de44dc1f",
   "metadata": {},
   "source": [
    "What is stored in a symbol-table?\n",
    "\n",
    " Symbol table stores the address of all identifiers(symbols) in a program."
   ]
  },
  {
   "cell_type": "markdown",
   "id": "fcc59eca",
   "metadata": {},
   "source": [
    "Why is the following type of import statement generally not recommended?\n",
    "from math import *\n",
    "\n",
    "-> Since * imports all functions inside a module, there is a high probability of name conflicts as well as hugh memory usage \n",
    "to import unnecessary functions."
   ]
  },
  {
   "cell_type": "markdown",
   "id": "7031ff23",
   "metadata": {},
   "source": [
    "When working in interactive-mode what convenient function can be used to list all names\n",
    "defined within a module?\n",
    "\n",
    " dir()"
   ]
  },
  {
   "cell_type": "markdown",
   "id": "c5810146",
   "metadata": {},
   "source": [
    "What is the value stored within the sys.path variable used for?\n",
    "\n",
    " It gives a list of paths where the interpretor searches for modules."
   ]
  },
  {
   "cell_type": "markdown",
   "id": "fa60b258",
   "metadata": {},
   "source": [
    "When a program is being executed as a script what value is assigned to the special variable\n",
    "__name__?\n",
    "\n",
    " __main__"
   ]
  },
  {
   "cell_type": "markdown",
   "id": "b76d8ac8",
   "metadata": {},
   "source": [
    "What value is assigned to the __name__ variable when a program has been imported as a\n",
    "module?\n",
    "\n",
    " filename.py"
   ]
  },
  {
   "cell_type": "markdown",
   "id": "3200d026",
   "metadata": {},
   "source": [
    "Why is it useful for a program to be able to detect whether it is running as a script, or\n",
    "whether it has been imported as a module?\n",
    "\n",
    " To be flexible"
   ]
  }
 ],
 "metadata": {
  "kernelspec": {
   "display_name": "Python 3 (ipykernel)",
   "language": "python",
   "name": "python3"
  },
  "language_info": {
   "codemirror_mode": {
    "name": "ipython",
    "version": 3
   },
   "file_extension": ".py",
   "mimetype": "text/x-python",
   "name": "python",
   "nbconvert_exporter": "python",
   "pygments_lexer": "ipython3",
   "version": "3.9.13"
  }
 },
 "nbformat": 4,
 "nbformat_minor": 5
}

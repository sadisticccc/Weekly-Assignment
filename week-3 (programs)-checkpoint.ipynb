{
 "cells": [
  {
   "cell_type": "code",
   "execution_count": 6,
   "id": "30fea51a",
   "metadata": {},
   "outputs": [
    {
     "name": "stdout",
     "output_type": "stream",
     "text": [
      "enter your name: sadi\n",
      "Hello, sadi\n"
     ]
    }
   ],
   "source": [
    "#Q1\n",
    "name = input(\"Enter your name: \")\n",
    "if not name:\n",
    "    print(\"Hello, stranger!\")\n",
    "else:\n",
    "    print(f\"Hello, {name}\")\n",
    "    "
   ]
  },
  {
   "cell_type": "code",
   "execution_count": 8,
   "id": "6e053bf6",
   "metadata": {},
   "outputs": [
    {
     "name": "stdout",
     "output_type": "stream",
     "text": [
      "Enter your new password: abuiikho\n",
      "Re-enter your password: thachaina\n",
      "Error!!!!!\n"
     ]
    }
   ],
   "source": [
    "#Q2\n",
    "password = input(\"Enter your new password: \")\n",
    "new_password = input(\"Re-enter your password: \")\n",
    "if password == new_password:\n",
    "    print(\"Password Set!\")\n",
    "else:\n",
    "    print(\"Error!!!!!\")"
   ]
  },
  {
   "cell_type": "code",
   "execution_count": 14,
   "id": "61dbcbf9",
   "metadata": {},
   "outputs": [
    {
     "name": "stdout",
     "output_type": "stream",
     "text": [
      "Enter your new password: password\n",
      "Re-enter your password: password\n",
      "Error!!\n"
     ]
    }
   ],
   "source": [
    "#Q3\n",
    "BAD_PASSWORDS = ['password', 'letmein', 'sesame', 'hello', 'justinbieber']\n",
    "password = input(\"Enter your new password: \")\n",
    "new_password = input(\"Re-enter your password: \")\n",
    "if password in BAD_PASSWORDS:\n",
    "    print(\"Error!!\")\n",
    "elif password in BAD_PASSWORDS:\n",
    "    print(\"Error!!\")\n",
    "elif password == new_password:\n",
    "    print(\"Password set!\")"
   ]
  },
  {
   "cell_type": "code",
   "execution_count": 1,
   "id": "c82d5698",
   "metadata": {},
   "outputs": [
    {
     "name": "stdout",
     "output_type": "stream",
     "text": [
      "Enter your new password: 12345678\n",
      "Re-enter your password: 87654321\n",
      "doesnt match!!\n"
     ]
    }
   ],
   "source": [
    "#Q4\n",
    "password = input(\"Enter your new password: \")\n",
    "new_password = input(\"Re-enter your password: \")\n",
    "if len(password)>= 8 and len(password)<=12:\n",
    "    if password == new_password:\n",
    "        print(\"Set!\")\n",
    "    else: \n",
    "        print(\"Doesnt match!!\")\n",
    "else:\n",
    "    print(\"Not in range!\")\n",
    "            \n",
    "    \n"
   ]
  },
  {
   "cell_type": "code",
   "execution_count": 3,
   "id": "6aac001a",
   "metadata": {},
   "outputs": [
    {
     "name": "stdout",
     "output_type": "stream",
     "text": [
      "Enter your password: password\n",
      "Enter your password: password\n",
      "Not valid!\n",
      "Enter your password: pass\n",
      "Enter your password: pass\n",
      "Not valid!\n",
      "Enter your password: password\n",
      "Enter your password: wordpass\n",
      "Not valid!\n",
      "Enter your password: 12345678\n",
      "Enter your password: 87654321\n",
      "Not valid!\n",
      "Enter your password: 12345678\n",
      "Enter your password: 12345678\n",
      "Password set!\n"
     ]
    }
   ],
   "source": [
    "#Q5\n",
    "loop = True\n",
    "while loop == True:\n",
    "    password = input(\"Enter your password: \")\n",
    "    new_password = input(\"Enter your password: \")\n",
    "    BAD_PASSWORDS = ['password', 'letmein', 'sesame', 'hello', 'justinbieber']\n",
    "    if (password in BAD_PASSWORDS):\n",
    "        print(\"Not valid!\")\n",
    "    elif not (password == new_password):\n",
    "        print(\"Not valid!\")\n",
    "    elif not (8 <= len(password) <= 12):\n",
    "        print(\"Not valid!\")\n",
    "    else:\n",
    "        loop = False\n",
    "        print(\"Password set!\")\n",
    "        \n",
    "\n"
   ]
  },
  {
   "cell_type": "code",
   "execution_count": 6,
   "id": "214e358e",
   "metadata": {},
   "outputs": [
    {
     "name": "stdout",
     "output_type": "stream",
     "text": [
      "7 * 0 = 0\n",
      "7 * 1 = 7\n",
      "7 * 2 = 14\n",
      "7 * 3 = 21\n",
      "7 * 4 = 28\n",
      "7 * 5 = 35\n",
      "7 * 6 = 42\n",
      "7 * 7 = 49\n",
      "7 * 8 = 56\n",
      "7 * 9 = 63\n",
      "7 * 10 = 70\n",
      "7 * 11 = 77\n",
      "7 * 12 = 84\n"
     ]
    }
   ],
   "source": [
    "#Q6\n",
    "val=7\n",
    "for i in range(0,13):\n",
    "    result = val * i\n",
    "    print(f\"{val} * {i} = {result}\")"
   ]
  },
  {
   "cell_type": "code",
   "execution_count": 9,
   "id": "5d2ab4e0",
   "metadata": {},
   "outputs": [
    {
     "name": "stdout",
     "output_type": "stream",
     "text": [
      "Enter a number: 6\n",
      "6 * 0 = 0\n",
      "6 * 1 = 6\n",
      "6 * 2 = 12\n",
      "6 * 3 = 18\n",
      "6 * 4 = 24\n",
      "6 * 5 = 30\n",
      "6 * 6 = 36\n",
      "6 * 7 = 42\n",
      "6 * 8 = 48\n",
      "6 * 9 = 54\n",
      "6 * 10 = 60\n",
      "6 * 11 = 66\n",
      "6 * 12 = 72\n"
     ]
    }
   ],
   "source": [
    "#Q7\n",
    "number = int(input(\"Enter a number: \"))\n",
    "for i in range(0,13):\n",
    "    result = number * i\n",
    "    print(f\"{number} * {i} = {result}\")"
   ]
  },
  {
   "cell_type": "code",
   "execution_count": 4,
   "id": "1dac8596",
   "metadata": {},
   "outputs": [
    {
     "name": "stdout",
     "output_type": "stream",
     "text": [
      "Enter a number: -7\n",
      "-7 * 12 = -84\n",
      "-7 * 11 = -77\n",
      "-7 * 10 = -70\n",
      "-7 * 9 = -63\n",
      "-7 * 8 = -56\n",
      "-7 * 7 = -49\n",
      "-7 * 6 = -42\n",
      "-7 * 5 = -35\n",
      "-7 * 4 = -28\n",
      "-7 * 3 = -21\n",
      "-7 * 2 = -14\n",
      "-7 * 1 = -7\n",
      "-7 * 0 = 0\n"
     ]
    }
   ],
   "source": [
    "#Q8\n",
    "number = int(input(\"Enter a number: \"))\n",
    "if number>0:\n",
    "    for i in range(0,13):\n",
    "        result = number * i\n",
    "        print(f\"{number} * {i} = {result}\")\n",
    "elif number<0:\n",
    "    for i in range(12,-1,-1):\n",
    "        result = number * i\n",
    "        print(f\"{number} * {i} = {result}\")\n",
    "    "
   ]
  },
  {
   "cell_type": "markdown",
   "id": "5afd2966",
   "metadata": {},
   "source": [
    "Thankyou!"
   ]
  }
 ],
 "metadata": {
  "kernelspec": {
   "display_name": "Python 3 (ipykernel)",
   "language": "python",
   "name": "python3"
  },
  "language_info": {
   "codemirror_mode": {
    "name": "ipython",
    "version": 3
   },
   "file_extension": ".py",
   "mimetype": "text/x-python",
   "name": "python",
   "nbconvert_exporter": "python",
   "pygments_lexer": "ipython3",
   "version": "3.9.13"
  }
 },
 "nbformat": 4,
 "nbformat_minor": 5
}

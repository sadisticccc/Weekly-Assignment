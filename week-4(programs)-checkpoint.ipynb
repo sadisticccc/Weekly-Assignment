{
 "cells": [
  {
   "cell_type": "code",
   "execution_count": 7,
   "id": "78e565d5",
   "metadata": {},
   "outputs": [
    {
     "data": {
      "text/plain": [
       "'inside range'"
      ]
     },
     "execution_count": 7,
     "metadata": {},
     "output_type": "execute_result"
    }
   ],
   "source": [
    "#Q1\n",
    "def num(a):\n",
    "    if a in range(0,100):\n",
    "        return True\n",
    "    else:\n",
    "        return False\n",
    "num(45)\n",
    "        "
   ]
  },
  {
   "cell_type": "code",
   "execution_count": 11,
   "id": "39312faf",
   "metadata": {},
   "outputs": [
    {
     "name": "stdout",
     "output_type": "stream",
     "text": [
      "6 3\n"
     ]
    }
   ],
   "source": [
    "#Q2\n",
    "def hello(a):\n",
    "    lcase=0\n",
    "    ucase=0\n",
    "    for x in a:\n",
    "        y=x\n",
    "        if x.lower()== y:\n",
    "            lcase += 1\n",
    "        else:\n",
    "            ucase += 1\n",
    "    return lcase,ucase\n",
    "lc,uc = hello(\"SadiKshyA\")\n",
    "print(lc,uc)\n",
    "                "
   ]
  },
  {
   "cell_type": "code",
   "execution_count": 4,
   "id": "e2856107",
   "metadata": {},
   "outputs": [
    {
     "name": "stdout",
     "output_type": "stream",
     "text": [
      "Enter a name: arthur gun\n",
      "Hello, Arthur Gun\n"
     ]
    }
   ],
   "source": [
    "#Q3\n",
    "name = input(\"Enter a name: \")\n",
    "name = name.title()\n",
    "print(f\"Hello, {name}\")\n",
    "\n"
   ]
  },
  {
   "cell_type": "code",
   "execution_count": 10,
   "id": "58f99846",
   "metadata": {},
   "outputs": [
    {
     "name": "stdout",
     "output_type": "stream",
     "text": [
      "Enter a name: aarjan adhi\n",
      "aarjan adh\n"
     ]
    }
   ],
   "source": [
    "#Q4\n",
    "def name(a):\n",
    "    remove = a[0:-1]\n",
    "    return remove\n",
    "\n",
    "iden = input(\"Enter a name: \")\n",
    "removed = name(iden)\n",
    "print(removed)"
   ]
  },
  {
   "cell_type": "code",
   "execution_count": 19,
   "id": "de154752",
   "metadata": {},
   "outputs": [
    {
     "name": "stdout",
     "output_type": "stream",
     "text": [
      "The temperature in celsius to fahrenheit is: 25.555555555555557\n",
      "The temperature in fahrenheit to celsius is: 113.0\n"
     ]
    }
   ],
   "source": [
    "#Q5\n",
    "def temp(f):\n",
    "    c = (f - 32)*(5/9)\n",
    "    return c\n",
    "def temp_1(c):\n",
    "    f = c * (9/5) + 32\n",
    "    return f\n",
    "c = temp(78)\n",
    "f = temp_1(45)\n",
    "print(f\"The temperature in celsius to fahrenheit is: {c}\")\n",
    "print(f\"The temperature in fahrenheit to celsius is: {f}\")\n",
    "\n"
   ]
  },
  {
   "cell_type": "code",
   "execution_count": 17,
   "id": "cca85ec2",
   "metadata": {},
   "outputs": [
    {
     "name": "stdout",
     "output_type": "stream",
     "text": [
      "31.666666666666668F\n"
     ]
    }
   ],
   "source": [
    "#Q6\n",
    "def temp(f):\n",
    "    remove = (float(f[0:-1]))\n",
    "    f = remove * (9/5) + 32\n",
    "    return c\n",
    "c = temp(\"89C\")\n",
    "print(str(c)+\"F\")\n"
   ]
  },
  {
   "cell_type": "code",
   "execution_count": 20,
   "id": "9642079e",
   "metadata": {},
   "outputs": [
    {
     "name": "stdout",
     "output_type": "stream",
     "text": [
      "Enter your values: 45\n",
      "Enter your values: 67\n",
      "Enter your values: 78\n",
      "Enter your values: 98\n",
      "Enter your values: 32\n",
      "Enter your values: 20\n",
      " The minimum temperature is 20.0\n",
      " The maximum temperature is 98.0\n",
      " The me_an is 66.5\n"
     ]
    }
   ],
   "source": [
    "#Q7\n",
    "\n",
    "from statistics import mean\n",
    "val = []\n",
    "for i in range(6):\n",
    "    temp = float(input(\"Enter your values: \"))\n",
    "    val.append(temp)\n",
    "minimum = min(val)\n",
    "maximum = max(val)\n",
    "me_an = mean(val)\n",
    "print(f\" The minimum temperature is {minimum}\")\n",
    "print(f\" The maximum temperature is {maximum}\")\n",
    "print(f\" The me_an is {me_an}\")\n",
    "\n"
   ]
  },
  {
   "cell_type": "code",
   "execution_count": 4,
   "id": "c0c2c0fc",
   "metadata": {},
   "outputs": [
    {
     "name": "stdout",
     "output_type": "stream",
     "text": [
      "Enter your values: 67\n",
      "Enter your values: 76\n",
      "Enter your values: \n",
      " The minimum temperature is 67.0\n",
      " The maximum temperature is 76.0\n",
      " The me_an is 71.5\n"
     ]
    }
   ],
   "source": [
    "#Q8\n",
    "from statistics import mean\n",
    "val = []\n",
    "while True:\n",
    "    temp =(input(\"Enter your values: \"))\n",
    "    if len(temp) == 0:\n",
    "        break\n",
    "    else:\n",
    "        val.append (float(temp))\n",
    "minimum = min(val)\n",
    "maximum = max(val)\n",
    "me_an = mean(val)\n",
    "if len(val)>0:\n",
    "    print(f\" The minimum temperature is {minimum}\")\n",
    "    print(f\" The maximum temperature is {maximum}\")\n",
    "    print(f\" The me_an is {me_an}\")"
   ]
  },
  {
   "cell_type": "markdown",
   "id": "a310ea22",
   "metadata": {},
   "source": [
    "Thankyou!"
   ]
  }
 ],
 "metadata": {
  "kernelspec": {
   "display_name": "Python 3 (ipykernel)",
   "language": "python",
   "name": "python3"
  },
  "language_info": {
   "codemirror_mode": {
    "name": "ipython",
    "version": 3
   },
   "file_extension": ".py",
   "mimetype": "text/x-python",
   "name": "python",
   "nbconvert_exporter": "python",
   "pygments_lexer": "ipython3",
   "version": "3.9.13"
  }
 },
 "nbformat": 4,
 "nbformat_minor": 5
}

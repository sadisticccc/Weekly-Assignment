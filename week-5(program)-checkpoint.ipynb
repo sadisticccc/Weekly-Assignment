{
 "cells": [
  {
   "cell_type": "code",
   "execution_count": 8,
   "id": "29b808c2",
   "metadata": {},
   "outputs": [],
   "source": [
    "#Using command-line arguments involves the sys module. Review the docs for this module and using the information in there \n",
    "#write a short program that when run from the command-line reports what operating system platform is being used.\n",
    "import sys\n",
    "def find_platform():\n",
    "    platform = sys.platform\n",
    "    print(\"The operating system ypu are using is {platform}.\")\n",
    "    \n",
    "if __name__ == \"__main__\":\n",
    "    find_platform\n",
    "\n",
    "    "
   ]
  },
  {
   "cell_type": "code",
   "execution_count": null,
   "id": "6f331e2c",
   "metadata": {},
   "outputs": [],
   "source": [
    "# Write a program that, when run from the command line, reports how many\n",
    "# arguments were provided. (Remember that the program name itself is not an\n",
    "# argument).\n",
    "import sys\n",
    "var = sys.argv\n",
    "if len(var) > 1:\n",
    "    print (len(var)-1)\n",
    "\n"
   ]
  },
  {
   "cell_type": "code",
   "execution_count": 2,
   "id": "29fcbd3c",
   "metadata": {},
   "outputs": [
    {
     "name": "stdout",
     "output_type": "stream",
     "text": [
      "--f=c:\\Users\\User\\AppData\\Roaming\\jupyter\\runtime\\kernel-v2-2976UgNKIEvx2cyF.json\n"
     ]
    }
   ],
   "source": [
    "# Write a program that takes a bunch of command-line arguments, and then prints\n",
    "# out the shortest. If there is more than one of the shortest length, any will do.\n",
    "#Hint: Don't overthink this. A good way to find the shortest is just to sort them\n",
    "import sys\n",
    "cmd = sys.argv[1:]\n",
    "print(min(cmd))\n"
   ]
  },
  {
   "cell_type": "code",
   "execution_count": null,
   "id": "613a208f",
   "metadata": {},
   "outputs": [],
   "source": [
    "# Write a program that takes a URL as a command-line argument and reports\n",
    "# whether or not there is a working website at that address.\n",
    "# Hint: You need to get the HTTP response code.\n",
    "# Another Hint: StackOverflow is your friend.\n",
    "import sys\n",
    "\n"
   ]
  }
 ],
 "metadata": {
  "kernelspec": {
   "display_name": "Python 3 (ipykernel)",
   "language": "python",
   "name": "python3"
  },
  "language_info": {
   "codemirror_mode": {
    "name": "ipython",
    "version": 3
   },
   "file_extension": ".py",
   "mimetype": "text/x-python",
   "name": "python",
   "nbconvert_exporter": "python",
   "pygments_lexer": "ipython3",
   "version": "3.10.11"
  }
 },
 "nbformat": 4,
 "nbformat_minor": 5
}

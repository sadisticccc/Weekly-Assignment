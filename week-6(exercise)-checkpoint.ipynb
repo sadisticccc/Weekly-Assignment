{
 "cells": [
  {
   "cell_type": "markdown",
   "metadata": {},
   "source": [
    "1) Would you describe the following Python statement as a function call? Or a method call?\n",
    "names.reverse()\n",
    "\n",
    "Ans:  I would call it a Function call."
   ]
  },
  {
   "cell_type": "markdown",
   "metadata": {},
   "source": [
    "2) Write a Python statement that appends a single element to the end of the specified List\n",
    "using a method call.\n",
    "prices = [2.65, 7.65, 8.25, 9.56]\n",
    "\n",
    "Ans: prices.append(element)"
   ]
  },
  {
   "cell_type": "markdown",
   "metadata": {},
   "source": [
    "3) Write another statement that appends three elements to the end of the specified List using a\n",
    "single method call.\n",
    "\n",
    "Ans:\n",
    "new_list = [1,2,3]\n",
    "prices.append(new_list)"
   ]
  },
  {
   "cell_type": "markdown",
   "metadata": {},
   "source": [
    "4) Now write a for loop that iterates over each value in the list and prints it to the screen.\n",
    "\n",
    "Ans:\n",
    "for i in prices:\n",
    "    print(i)  "
   ]
  },
  {
   "cell_type": "markdown",
   "metadata": {
    "vscode": {
     "languageId": "plaintext"
    }
   },
   "source": [
    "5) Is a method that changes the contents of the associated value referred to as a mutator? Or\n",
    "an accessor?\n",
    "\n",
    "Ans: Mutator"
   ]
  },
  {
   "cell_type": "markdown",
   "metadata": {},
   "source": [
    "6) What would the contents of the primes list look like after execution of the following\n",
    "statements?\n",
    "primes = [ 2, 3, 5, 7, 11, 13, 17, 19 ]\n",
    "\n",
    "primes.pop()\n",
    "Ans: 19\n",
    "\n",
    "primes.reverse()\n",
    "Ans: [19, 17, 13, 11, 7, 5, 3, 2]\n",
    "\n",
    "primes.remove(7)\n",
    "Ans: [2, 3, 5, 11, 13, 17, 19]\n"
   ]
  },
  {
   "cell_type": "markdown",
   "metadata": {},
   "source": [
    "7) Provide an example of how the insert() method could be used to add a value of 10 to the\n",
    "beginning of the list shown below.\n",
    "temps = [ 32, 46, 95, 10, 50 ]\n",
    "\n",
    "Ans: temps.insert(0, 10)"
   ]
  },
  {
   "cell_type": "markdown",
   "metadata": {},
   "source": [
    "8) Now write a statement that uses an accessor method to find the index of the value 95 within\n",
    "the list.\n",
    "\n",
    "Ans: temps.index(95)"
   ]
  },
  {
   "cell_type": "code",
   "execution_count": null,
   "metadata": {},
   "outputs": [],
   "source": [
    "9) Finally write a statement that uses another accessor method to count how many times the\n",
    "number 10 appears within the list.\n",
    "\n",
    "Ans: temps.count(10)"
   ]
  },
  {
   "cell_type": "code",
   "execution_count": null,
   "metadata": {},
   "outputs": [],
   "source": [
    "10) What would be stored in the list samples after the following statements were executed?\n",
    "samples = [ 100.2, 100.6, 99.2, 765.2, 900.2, 400 ]\n",
    "samples = samples.reverse()\n",
    "\n",
    "Ans: None\n",
    "\n",
    "Explain why this is the case.\n",
    "\n",
    "Ans: mutators return None "
   ]
  },
  {
   "cell_type": "code",
   "execution_count": null,
   "metadata": {},
   "outputs": [],
   "source": [
    "11) Write a Python program that uses a List-Comprehension to produce the same list as the\n",
    "following code -\n",
    "values = []\n",
    "for n in range(100,200):\n",
    "values.append(x*x)\n",
    "\n",
    "Ans: values = [x*x for x in range(100,200)]"
   ]
  },
  {
   "cell_type": "code",
   "execution_count": null,
   "metadata": {},
   "outputs": [],
   "source": [
    "12) Now, amend your code so that it only includes even numbers.\n",
    "\n",
    "Ans: values = [x*x for x in range(100,200) if x % 2 == 0]"
   ]
  },
  {
   "cell_type": "code",
   "execution_count": null,
   "metadata": {},
   "outputs": [],
   "source": [
    "13) What is the data-type of the following value?\n",
    "info = (\"Ken\", \"bae-192\", 62)\n",
    "\n",
    "Ans: Tuple"
   ]
  },
  {
   "cell_type": "code",
   "execution_count": null,
   "metadata": {},
   "outputs": [],
   "source": [
    "14) Is a Tuple mutable or immutable?\n",
    "\n",
    "Ans: Tuple is immutable"
   ]
  },
  {
   "cell_type": "code",
   "execution_count": null,
   "metadata": {},
   "outputs": [],
   "source": [
    "15) Write a statement that creates a Tuple that contains a single element.\n",
    "\n",
    "Ans si_tuple = (one_element)"
   ]
  },
  {
   "cell_type": "code",
   "execution_count": null,
   "metadata": {},
   "outputs": [],
   "source": [
    "16) Write a single Python statement that unpacks the following Tuple into three variables, called\n",
    "x, y and z.\n",
    "coord = (100, 200, 150)\n",
    "\n",
    "Ans: x, y, z = coord"
   ]
  },
  {
   "cell_type": "code",
   "execution_count": null,
   "metadata": {},
   "outputs": [],
   "source": [
    "17) Write another statement that uses indexing to access the second element of the Tuple and\n",
    "store it in a variable called ‘height’\n",
    "\n",
    "Ans: height = coord[1]"
   ]
  },
  {
   "cell_type": "code",
   "execution_count": null,
   "metadata": {},
   "outputs": [],
   "source": [
    "18) Finally write a ‘for’ loop that prints each value within the Tuple.\n",
    "\n",
    "Ans:\n",
    "for i in coord:\n",
    "    print(i)"
   ]
  },
  {
   "cell_type": "code",
   "execution_count": null,
   "metadata": {},
   "outputs": [],
   "source": [
    "19) When a Tuple (or any sequence) type value is being passed as an argument to a function,\n",
    "what single character can be used as a prefix to force the sequence to be unpacked prior to\n",
    "the call being made?\n",
    "\n",
    "Ans: *"
   ]
  },
  {
   "cell_type": "code",
   "execution_count": null,
   "metadata": {},
   "outputs": [],
   "source": [
    "20) When discussing Tuples the phrase heterogeneous is sometimes used to describe the type\n",
    "of stored values. What does this mean in practice?\n",
    "\n",
    "Ans: The values stored in the tuple have different data types."
   ]
  },
  {
   "cell_type": "code",
   "execution_count": null,
   "metadata": {},
   "outputs": [],
   "source": [
    "21) What sister phrase is often used to refer to the type of values stored within a List? And what\n",
    "does this mean?\n",
    "\n",
    "Ans: The phrase is Homogeneous, which means that that lists generally contain a singular data type even though it can contain any types."
   ]
  }
 ],
 "metadata": {
  "kernelspec": {
   "display_name": "Python 3",
   "language": "python",
   "name": "python3"
  },
  "language_info": {
   "name": "python",
   "version": "3.10.11"
  }
 },
 "nbformat": 4,
 "nbformat_minor": 2
}

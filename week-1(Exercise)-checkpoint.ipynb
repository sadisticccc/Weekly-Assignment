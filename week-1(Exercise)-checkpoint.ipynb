{
 "cells": [
  {
   "cell_type": "markdown",
   "id": "8e99d363",
   "metadata": {},
   "source": [
    "What is the name of the programming language that we will be using on this module? What version of the language are we using?\n",
    "3.7 or later"
   ]
  },
  {
   "cell_type": "markdown",
   "id": "5242d0fc",
   "metadata": {},
   "source": [
    "A computer program takes some input, performs some processing then…. what?\n",
    "gives us output"
   ]
  },
  {
   "cell_type": "markdown",
   "id": "58710a61",
   "metadata": {},
   "source": [
    "What generation of programming language is machine code?\n",
    "first generation language"
   ]
  },
  {
   "cell_type": "markdown",
   "id": "16e0a98a",
   "metadata": {},
   "source": [
    "Which of the following is known as a second generation programming language?\n",
    "● C++\n",
    "● Java\n",
    "● Assembly\n",
    "● R\n",
    "● Python\n",
    "Assembly"
   ]
  },
  {
   "cell_type": "markdown",
   "id": "aed5015f",
   "metadata": {},
   "source": [
    "State one problem associated with writing code in Assembly Language.\n",
    "programming is still fairly difficult and time consuming."
   ]
  },
  {
   "cell_type": "markdown",
   "id": "432e8fdf",
   "metadata": {},
   "source": [
    "What generation of programming language is Python?\n",
    "Third generation programming language."
   ]
  },
  {
   "cell_type": "markdown",
   "id": "96a19fe6",
   "metadata": {},
   "source": [
    "What is the purpose of a compiler?\n",
    "To execute a block of statement into assembly or machine code."
   ]
  },
  {
   "cell_type": "markdown",
   "id": "15cf6829",
   "metadata": {},
   "source": [
    "The Python interpreter uses an interaction model called REPL. What does this stand for?\n",
    "R-READ E-EVAL P-PRINT L-LOOP"
   ]
  },
  {
   "cell_type": "markdown",
   "id": "eb5aa7c4",
   "metadata": {},
   "source": [
    "Is it true that Python development always has to take place using interactive-mode within the\n",
    "Python interpreter?\n",
    "NO"
   ]
  },
  {
   "cell_type": "markdown",
   "id": "3b926c64",
   "metadata": {},
   "source": [
    "What does the term IDE stand for?\n",
    "Integrated Development Environment"
   ]
  },
  {
   "cell_type": "markdown",
   "id": "3e7d8c50",
   "metadata": {},
   "source": [
    "What is the main reason why programmers use code libraries?\n",
    "To reduce the amount of code , a programmer needs to write by providing reusable functions and classes that can be called upon \n",
    "as needed."
   ]
  },
  {
   "cell_type": "markdown",
   "id": "4f8bccb8",
   "metadata": {},
   "source": [
    "The Python language is often used in the field of data-science. What other language\n",
    "specifically supports data-science?\n",
    "SQL,Java,C/C++,Jvascript"
   ]
  },
  {
   "cell_type": "markdown",
   "id": "c53c5443",
   "metadata": {},
   "source": [
    "An expression within a programming language consists of operands and operators.\n",
    "Given an expression such as: 20 + 10, which part of this is the operator?\n",
    "'+' is the opeator in the expression 20 + 10 is the operand."
   ]
  },
  {
   "cell_type": "markdown",
   "id": "62e3977d",
   "metadata": {},
   "source": [
    "Within Python, what calculation is performed by the ‘*’ operator?\n",
    "multiplication"
   ]
  },
  {
   "cell_type": "markdown",
   "id": "7ad7b9b4",
   "metadata": {},
   "source": [
    "And, what calculation is performed by the ‘/’ operator?\n",
    "Division "
   ]
  },
  {
   "cell_type": "markdown",
   "id": "8332c46d",
   "metadata": {},
   "source": [
    "And, what calculation is performed by the ‘**’ operator?\n",
    "Exponentiation "
   ]
  },
  {
   "cell_type": "markdown",
   "id": "c6c5650f",
   "metadata": {},
   "source": [
    "Using the information about expression evaluation provided in the related tutorial, evaluate\n",
    "each of the following expressions in your head and type the result in the answer boxes\n",
    "below. Remember that an operator precedence is applied, but can be overridden by the use\n",
    "of parentheses."
   ]
  },
  {
   "cell_type": "code",
   "execution_count": 1,
   "id": "23c30e3a",
   "metadata": {},
   "outputs": [
    {
     "data": {
      "text/plain": [
       "250"
      ]
     },
     "execution_count": 1,
     "metadata": {},
     "output_type": "execute_result"
    }
   ],
   "source": [
    "100 + 200 - 50"
   ]
  },
  {
   "cell_type": "code",
   "execution_count": 2,
   "id": "a3f8d79c",
   "metadata": {},
   "outputs": [
    {
     "data": {
      "text/plain": [
       "210"
      ]
     },
     "execution_count": 2,
     "metadata": {},
     "output_type": "execute_result"
    }
   ],
   "source": [
    "10 + 20 * 10"
   ]
  },
  {
   "cell_type": "code",
   "execution_count": 3,
   "id": "ec4fabf1",
   "metadata": {},
   "outputs": [
    {
     "data": {
      "text/plain": [
       "2"
      ]
     },
     "execution_count": 3,
     "metadata": {},
     "output_type": "execute_result"
    }
   ],
   "source": [
    "20 % 3"
   ]
  },
  {
   "cell_type": "code",
   "execution_count": 4,
   "id": "0f7c8fe4",
   "metadata": {},
   "outputs": [
    {
     "data": {
      "text/plain": [
       "2.0"
      ]
     },
     "execution_count": 4,
     "metadata": {},
     "output_type": "execute_result"
    }
   ],
   "source": [
    "20 / (2*5)"
   ]
  },
  {
   "cell_type": "code",
   "execution_count": 5,
   "id": "9044799e",
   "metadata": {},
   "outputs": [
    {
     "data": {
      "text/plain": [
       "50.0"
      ]
     },
     "execution_count": 5,
     "metadata": {},
     "output_type": "execute_result"
    }
   ],
   "source": [
    "20 / 2 * 5"
   ]
  },
  {
   "cell_type": "code",
   "execution_count": 6,
   "id": "36533786",
   "metadata": {},
   "outputs": [
    {
     "data": {
      "text/plain": [
       "23"
      ]
     },
     "execution_count": 6,
     "metadata": {},
     "output_type": "execute_result"
    }
   ],
   "source": [
    "10 * 2 + 1 * 3"
   ]
  },
  {
   "cell_type": "code",
   "execution_count": 7,
   "id": "ca121814",
   "metadata": {},
   "outputs": [
    {
     "data": {
      "text/plain": [
       "105"
      ]
     },
     "execution_count": 7,
     "metadata": {},
     "output_type": "execute_result"
    }
   ],
   "source": [
    "5 + 10 ** 2"
   ]
  },
  {
   "cell_type": "code",
   "execution_count": 8,
   "id": "7b78f69a",
   "metadata": {},
   "outputs": [
    {
     "data": {
      "text/plain": [
       "411.0"
      ]
     },
     "execution_count": 8,
     "metadata": {},
     "output_type": "execute_result"
    }
   ],
   "source": [
    "(10 + 2 / 2) + ((10 * 2) ** 2)"
   ]
  },
  {
   "cell_type": "markdown",
   "id": "c693c0a7",
   "metadata": {},
   "source": [
    "Use the Python interpreter to input and then execute a simple Python expression that adds\n",
    "the three numbers 100.6, 200.72 and 213.3, then write the result in the answer box below."
   ]
  },
  {
   "cell_type": "code",
   "execution_count": 9,
   "id": "c0b27bae",
   "metadata": {},
   "outputs": [
    {
     "data": {
      "text/plain": [
       "514.62"
      ]
     },
     "execution_count": 9,
     "metadata": {},
     "output_type": "execute_result"
    }
   ],
   "source": [
    "100.6 + 200.72 + 213.3"
   ]
  },
  {
   "cell_type": "code",
   "execution_count": 10,
   "id": "2431bd69",
   "metadata": {},
   "outputs": [
    {
     "data": {
      "text/plain": [
       "48397.5"
      ]
     },
     "execution_count": 10,
     "metadata": {},
     "output_type": "execute_result"
    }
   ],
   "source": [
    "20.25 * 100 * 23.9"
   ]
  },
  {
   "cell_type": "code",
   "execution_count": 11,
   "id": "50009565",
   "metadata": {},
   "outputs": [
    {
     "ename": "ZeroDivisionError",
     "evalue": "division by zero",
     "output_type": "error",
     "traceback": [
      "\u001b[1;31m---------------------------------------------------------------------------\u001b[0m",
      "\u001b[1;31mZeroDivisionError\u001b[0m                         Traceback (most recent call last)",
      "Cell \u001b[1;32mIn[11], line 1\u001b[0m\n\u001b[1;32m----> 1\u001b[0m \u001b[38;5;241;43m10\u001b[39;49m\u001b[38;5;241;43m/\u001b[39;49m\u001b[38;5;241;43m0\u001b[39;49m\n",
      "\u001b[1;31mZeroDivisionError\u001b[0m: division by zero"
     ]
    }
   ],
   "source": [
    "10/0"
   ]
  },
  {
   "cell_type": "markdown",
   "id": "00d9de0b",
   "metadata": {},
   "source": [
    "What type of error is typically easier to identify? A syntax error? Or a logical error?\n",
    "A syntax error"
   ]
  },
  {
   "cell_type": "markdown",
   "id": "d3ed62f9",
   "metadata": {},
   "source": [
    "What type of message is used by the Python interpreter to report run-time errors?\n",
    "Traceback"
   ]
  },
  {
   "cell_type": "markdown",
   "id": "22bff03f",
   "metadata": {},
   "source": [
    "What command can be used to exit the Python interpreter?\n",
    "Exit() or quit()"
   ]
  }
 ],
 "metadata": {
  "kernelspec": {
   "display_name": "Python 3 (ipykernel)",
   "language": "python",
   "name": "python3"
  },
  "language_info": {
   "codemirror_mode": {
    "name": "ipython",
    "version": 3
   },
   "file_extension": ".py",
   "mimetype": "text/x-python",
   "name": "python",
   "nbconvert_exporter": "python",
   "pygments_lexer": "ipython3",
   "version": "3.10.11"
  }
 },
 "nbformat": 4,
 "nbformat_minor": 5
}

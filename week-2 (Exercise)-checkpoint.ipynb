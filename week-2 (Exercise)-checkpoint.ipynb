{
 "cells": [
  {
   "cell_type": "markdown",
   "id": "1c270d0f",
   "metadata": {},
   "source": [
    "Which is the purpose of a variable within Python?\n",
    "To store anything from simple data types like integers and strings to more complex data structures like lists and dictionaries."
   ]
  },
  {
   "cell_type": "markdown",
   "id": "998c4ae4",
   "metadata": {},
   "source": [
    "Write a simple Python statement that creates and assigns a value of 3.142 to a variable\n",
    "called ‘pi’?\n",
    "pi = 3.142"
   ]
  },
  {
   "cell_type": "markdown",
   "id": "5ba26933",
   "metadata": {},
   "source": [
    "Which of the following is NOT a valid name for a variable within Python?\n",
    "total\n",
    "result\n",
    "question?\n",
    "name_1\n",
    "Ans = question?"
   ]
  },
  {
   "cell_type": "code",
   "execution_count": null,
   "id": "7b60aa41",
   "metadata": {},
   "outputs": [],
   "source": [
    "#Following the execution of the code below, what will be stored in the variable 'age'?\n",
    "age = 10 + 20\n",
    "age = age + 5\n",
    "35"
   ]
  },
  {
   "cell_type": "markdown",
   "id": "3ec91ba4",
   "metadata": {},
   "source": [
    "In the answer box below write the exact output that would be displayed if the following\n",
    "statement was executed (assuming age has been created as in the previous question):\n",
    "print(\"The age value is\",age)\n",
    "The age value is 35."
   ]
  },
  {
   "cell_type": "markdown",
   "id": "eec7fab8",
   "metadata": {},
   "source": [
    "Which of the following is an example of an Augmented Assignment in Python?\n",
    "total = 20\n",
    "total = total + 5\n",
    "total *= 100\n",
    "total = max\n",
    "Ans = total *= 100"
   ]
  },
  {
   "cell_type": "markdown",
   "id": "11105134",
   "metadata": {},
   "source": [
    "Which of the following is an example of an integer type variable?\n",
    "result = \"xyz\"\n",
    "result = 20\n",
    "result = 20.5\n",
    "result = False\n",
    "Ans = result=20"
   ]
  },
  {
   "cell_type": "markdown",
   "id": "8191e8b4",
   "metadata": {},
   "source": [
    "What are the only two legal values of a boolean type variable?\n",
    "True and False"
   ]
  },
  {
   "cell_type": "markdown",
   "id": "8be6b454",
   "metadata": {},
   "source": [
    "Following the execution of the code below, what will be the data-type of the variable\n",
    "'average'?\n",
    "average = total / count\n",
    "Ans = Floating point data-type"
   ]
  },
  {
   "cell_type": "markdown",
   "id": "6fc96c08",
   "metadata": {},
   "source": [
    "Following the execution of the code below, what will be the data-type of the variable\n",
    "'message'?\n",
    "message = \"hello there!\"\n",
    "Ans =  String"
   ]
  },
  {
   "cell_type": "markdown",
   "id": "d31b8bff",
   "metadata": {},
   "source": [
    "What determines the current data-type of a variable?\n",
    "The type of the value that is assigned to the variable."
   ]
  },
  {
   "cell_type": "markdown",
   "id": "506271b2",
   "metadata": {},
   "source": [
    "What is the purpose of the built-in type() function?\n",
    "To get the type of a function."
   ]
  },
  {
   "cell_type": "markdown",
   "id": "b689c762",
   "metadata": {},
   "source": [
    "What would be the output following execution of the following code?\n",
    "type(10.2)\n",
    "Ans = Floating point data type"
   ]
  },
  {
   "cell_type": "markdown",
   "id": "04065939",
   "metadata": {},
   "source": [
    "Does the Python language support Dynamic Typing, or Static Typing?\n",
    "Ans =  Dynamic typing"
   ]
  },
  {
   "cell_type": "markdown",
   "id": "af9e11bf",
   "metadata": {},
   "source": [
    "Which of the following is an example of a function call?\n",
    "answer = 10\n",
    "print(answer)\n",
    "total *= 10\n",
    "10 + 20\n",
    "Ans = print(answer) calls the function. "
   ]
  },
  {
   "cell_type": "markdown",
   "id": "f0819106",
   "metadata": {},
   "source": [
    "What is the name given to the values that are passed to a function within the parentheses?\n",
    "Parameters or function arguments."
   ]
  },
  {
   "cell_type": "markdown",
   "id": "90dbe2dc",
   "metadata": {},
   "source": [
    "What is the purpose of the built-in input() function?\n",
    "To ask the user for data thats ia converted to and returned as a string."
   ]
  },
  {
   "cell_type": "markdown",
   "id": "27e8f314",
   "metadata": {},
   "source": [
    "What is the data-type of the value returned by the input() function?\n",
    "String."
   ]
  },
  {
   "cell_type": "markdown",
   "id": "f71d9e05",
   "metadata": {},
   "source": [
    "Within the answer box below write a small Python program, that when run, would print the\n",
    "following message including the double quotes -\n",
    "print(\"Hello, is your name \\\"Bwian\\\"?\")"
   ]
  },
  {
   "cell_type": "code",
   "execution_count": 8,
   "id": "8ae7f0c4",
   "metadata": {},
   "outputs": [
    {
     "name": "stdout",
     "output_type": "stream",
     "text": [
      "the age value is 35\n"
     ]
    }
   ],
   "source": [
    "age= 20+10\n",
    "age= age+5\n",
    "print(\"the age value is\",age)"
   ]
  },
  {
   "cell_type": "code",
   "execution_count": 9,
   "id": "85c9d790",
   "metadata": {},
   "outputs": [
    {
     "name": "stdout",
     "output_type": "stream",
     "text": [
      "Or is your name 'Woger'?\n"
     ]
    }
   ],
   "source": [
    "print(\"Or is your name 'Woger'?\")"
   ]
  },
  {
   "cell_type": "code",
   "execution_count": 12,
   "id": "271e2c87",
   "metadata": {},
   "outputs": [
    {
     "name": "stdout",
     "output_type": "stream",
     "text": [
      "This is a string containing a backslash (\\),\n",
      "\ta single quote ('), a double quote (\")\n",
      "\t and is split across multiple lines\n"
     ]
    }
   ],
   "source": [
    "print(\"This is a string containing a backslash (\\),\\n\"\"\\ta single quote ('), a double quote (\\\")\\n\"\"\\t and is split across multiple lines\")"
   ]
  },
  {
   "cell_type": "code",
   "execution_count": null,
   "id": "b8908086",
   "metadata": {},
   "outputs": [],
   "source": [
    "print('''This is a string containing a backslash (\\),\\n''' '''\\t a single quote ('), a double quote (\")\\n''' '''\\t and is split across multiple lines''')"
   ]
  },
  {
   "cell_type": "code",
   "execution_count": 6,
   "id": "44b1c11e",
   "metadata": {},
   "outputs": [
    {
     "name": "stdout",
     "output_type": "stream",
     "text": [
      "enter the temp in fahrenheit: 45\n",
      "the celsius is 7.222222222222222\n"
     ]
    }
   ],
   "source": [
    "# Use the Python interpreter to input a small Python program that asks the user to input a\n",
    "# temperature in fahrenheit. Once the value has been input, display a message that shows the\n",
    "# same temperature in celsius. You may have to do some research in order to find out the\n",
    "# conversion method. Once this works, type the program in the answer box below.\n",
    "\n",
    "fahrenheit=float(input(\"enter the temp in fahrenheit: \"))\n",
    "celsius=(fahrenheit-32)*5/9\n",
    "print(\"the celsius is\",celsius)\n"
   ]
  },
  {
   "cell_type": "code",
   "execution_count": 8,
   "id": "5c3886d6",
   "metadata": {},
   "outputs": [
    {
     "name": "stdout",
     "output_type": "stream",
     "text": [
      "enter the first number: 7\n",
      "enter the second number: 8\n",
      "The value 'a' was 7.0 and the value 'b' was 8.0\n",
      "The sum of 'a' and 'b' is 15.0\n",
      "The product of 'a' and 'b' is 56.0\n"
     ]
    }
   ],
   "source": [
    "# Within the answer box below write a small Python program that asks the user to enter two\n",
    "# values. Store these in variables called 'a' and 'b' respectively.\n",
    "\n",
    "# Once the values have been input use three calls to the print() function to show output\n",
    "# such as the following (in this example the user entered 10.2 and 18.3) -\n",
    "\n",
    "a=float(input(\"enter the first number: \"))\n",
    "b=float(input(\"enter the second number: \"))\n",
    "print(f\"The value 'a' was {a} and the value 'b' was {b}\")\n",
    "print(f\"The sum of 'a' and 'b' is {a+b}\")\n",
    "print(f\"The product of 'a' and 'b' is {a*b}\")\n"
   ]
  },
  {
   "cell_type": "code",
   "execution_count": 9,
   "id": "769b8262",
   "metadata": {},
   "outputs": [
    {
     "name": "stdout",
     "output_type": "stream",
     "text": [
      "enter the first number: 6\n",
      "enter the second number: 7\n",
      "enter the third number: 8\n",
      "8\n"
     ]
    }
   ],
   "source": [
    "# Within the answer box below write a small program that asks the user to input three values.\n",
    "# Store these in variables (the names are up to you) then use the max() function to display the\n",
    "# largest of the input values.\n",
    "\n",
    "num_1=input(\"enter the first number: \")\n",
    "num_2=input(\"enter the second number: \")\n",
    "num_3=input(\"enter the third number: \")\n",
    "print(max(num_1,num_2,num_3))"
   ]
  },
  {
   "cell_type": "code",
   "execution_count": 10,
   "id": "858b57f2",
   "metadata": {},
   "outputs": [
    {
     "name": "stdout",
     "output_type": "stream",
     "text": [
      "welcome\n"
     ]
    }
   ],
   "source": [
    "# Using the Python interpreter execute your code, then examine the output generated when\n",
    "# the input the values are 'hello', 'welcome', and 'bye'\n",
    "# Does the program still show the maximum value? If not, what does it show?\n",
    "\n",
    "print(max(\"hello\",\"welcome\",\"bye\"))"
   ]
  },
  {
   "cell_type": "markdown",
   "id": "cbe76854",
   "metadata": {},
   "source": [
    "Given the following definition:\n",
    "name = \"Black Knight\"\n",
    "What would each of the following Python statements display?"
   ]
  },
  {
   "cell_type": "code",
   "execution_count": 1,
   "id": "8a686717",
   "metadata": {},
   "outputs": [
    {
     "name": "stdout",
     "output_type": "stream",
     "text": [
      "B\n"
     ]
    }
   ],
   "source": [
    "name = \"Black Knight\"\n",
    "print(name[0])"
   ]
  },
  {
   "cell_type": "code",
   "execution_count": 2,
   "id": "54bab84d",
   "metadata": {},
   "outputs": [
    {
     "name": "stdout",
     "output_type": "stream",
     "text": [
      "k\n"
     ]
    }
   ],
   "source": [
    "print(name[4])"
   ]
  },
  {
   "cell_type": "code",
   "execution_count": 3,
   "id": "3578897e",
   "metadata": {},
   "outputs": [
    {
     "name": "stdout",
     "output_type": "stream",
     "text": [
      "t\n"
     ]
    }
   ],
   "source": [
    "print(name[-1])"
   ]
  },
  {
   "cell_type": "code",
   "execution_count": 4,
   "id": "6363db59",
   "metadata": {},
   "outputs": [
    {
     "name": "stdout",
     "output_type": "stream",
     "text": [
      "h\n"
     ]
    }
   ],
   "source": [
    "print(name[-2])"
   ]
  },
  {
   "cell_type": "code",
   "execution_count": 5,
   "id": "6ec84b2b",
   "metadata": {},
   "outputs": [
    {
     "name": "stdout",
     "output_type": "stream",
     "text": [
      "ack\n"
     ]
    }
   ],
   "source": [
    "print(name[2:5])"
   ]
  },
  {
   "cell_type": "code",
   "execution_count": 6,
   "id": "bc338a62",
   "metadata": {},
   "outputs": [
    {
     "name": "stdout",
     "output_type": "stream",
     "text": [
      "Black\n"
     ]
    }
   ],
   "source": [
    "print(name[:5])"
   ]
  },
  {
   "cell_type": "code",
   "execution_count": 7,
   "id": "0cabc998",
   "metadata": {},
   "outputs": [
    {
     "name": "stdout",
     "output_type": "stream",
     "text": [
      "Knight\n"
     ]
    }
   ],
   "source": [
    "print(name[6:])"
   ]
  },
  {
   "cell_type": "code",
   "execution_count": 8,
   "id": "f3e77f67",
   "metadata": {},
   "outputs": [
    {
     "name": "stdout",
     "output_type": "stream",
     "text": [
      "Black Knight\n"
     ]
    }
   ],
   "source": [
    "print(name[:])"
   ]
  },
  {
   "cell_type": "code",
   "execution_count": null,
   "id": "c71931d0",
   "metadata": {},
   "outputs": [],
   "source": [
    "#Which of the following creates a variable containing a List?\n",
    "names = \"Terry\"\n",
    "names = 10\n",
    "names = [ \"Mark\", \"Jon\", \"Amanda\", \"Edward\", \"Sally\" ]\n",
    "names = \"Mark\", \"Jon\", \"Amanda\"\n",
    "\n",
    "Ans = names = [ \"Mark\", \"Jon\", \"Amanda\", \"Edward\", \"Sally\" ]"
   ]
  },
  {
   "cell_type": "markdown",
   "id": "d4445be6",
   "metadata": {},
   "source": [
    "Is the following a valid List, even though it contains values based on different data-types?\n",
    "values = [10.2, \"Jon\", False, \"Edward\", True ]\n",
    "\n",
    "Yes."
   ]
  },
  {
   "cell_type": "markdown",
   "id": "282f60be",
   "metadata": {},
   "source": [
    "If a value is mutable, can it be modified after it has been created?\n",
    "Yes."
   ]
  },
  {
   "cell_type": "markdown",
   "id": "fd58c8d2",
   "metadata": {},
   "source": [
    "What term is used to describe a value that cannot be changed once it has been created?\n",
    "Immutable."
   ]
  },
  {
   "cell_type": "markdown",
   "id": "7d42da21",
   "metadata": {},
   "source": [
    "Is list mutable or immutable?\n",
    "Mutable"
   ]
  },
  {
   "cell_type": "markdown",
   "id": "ce7db34e",
   "metadata": {},
   "source": [
    "Is string mutable or immutable?\n",
    "Immutable"
   ]
  },
  {
   "cell_type": "markdown",
   "id": "8351b65d",
   "metadata": {},
   "source": [
    "Given the following definition -\n",
    "names = [\"Terry\", \"John\", \"Michael\", \"Eric\", \"Terry\", \"Graham\"]\n",
    "What would each of the following Python statements display?"
   ]
  },
  {
   "cell_type": "code",
   "execution_count": 9,
   "id": "37ebde77",
   "metadata": {},
   "outputs": [
    {
     "name": "stdout",
     "output_type": "stream",
     "text": [
      "a\n"
     ]
    }
   ],
   "source": [
    "names = [\"Terry\", \"John\", \"Michael\", \"Eric\", \"Terry\", \"Graham\"]\n",
    "print(name[2])"
   ]
  },
  {
   "cell_type": "code",
   "execution_count": 10,
   "id": "9df3f3ab",
   "metadata": {},
   "outputs": [
    {
     "name": "stdout",
     "output_type": "stream",
     "text": [
      "h\n"
     ]
    }
   ],
   "source": [
    "print(name[-2])"
   ]
  },
  {
   "cell_type": "code",
   "execution_count": 11,
   "id": "330ee640",
   "metadata": {},
   "outputs": [
    {
     "name": "stdout",
     "output_type": "stream",
     "text": [
      "Bla\n"
     ]
    }
   ],
   "source": [
    "print(name[0:3])"
   ]
  },
  {
   "cell_type": "code",
   "execution_count": 19,
   "id": "dc465dee",
   "metadata": {},
   "outputs": [
    {
     "ename": "TypeError",
     "evalue": "can only concatenate list (not \"str\") to list",
     "output_type": "error",
     "traceback": [
      "\u001b[1;31m---------------------------------------------------------------------------\u001b[0m",
      "\u001b[1;31mTypeError\u001b[0m                                 Traceback (most recent call last)",
      "\u001b[1;32m~\\AppData\\Local\\Temp\\ipykernel_13532\\1720436178.py\u001b[0m in \u001b[0;36m<module>\u001b[1;34m\u001b[0m\n\u001b[1;32m----> 1\u001b[1;33m \u001b[0mnames\u001b[0m \u001b[1;33m=\u001b[0m \u001b[0mnames\u001b[0m \u001b[1;33m+\u001b[0m \u001b[1;34m\"Brian\"\u001b[0m\u001b[1;33m\u001b[0m\u001b[1;33m\u001b[0m\u001b[0m\n\u001b[0m\u001b[0;32m      2\u001b[0m \u001b[0mprint\u001b[0m\u001b[1;33m(\u001b[0m \u001b[0mnames\u001b[0m \u001b[1;33m)\u001b[0m\u001b[1;33m\u001b[0m\u001b[1;33m\u001b[0m\u001b[0m\n",
      "\u001b[1;31mTypeError\u001b[0m: can only concatenate list (not \"str\") to list"
     ]
    }
   ],
   "source": [
    "names = names + \"Brian\"\n",
    "print( names )"
   ]
  },
  {
   "cell_type": "code",
   "execution_count": null,
   "id": "c1ecea99",
   "metadata": {},
   "outputs": [],
   "source": [
    "names[0:1] = [\"Mark\", \"Jon\"]\n",
    "print( names )"
   ]
  },
  {
   "cell_type": "markdown",
   "id": "84975551",
   "metadata": {},
   "source": [
    "What built-in function within Python can be used to find out how many elements are\n",
    "contained within a string or list?\n",
    "\n",
    "len()"
   ]
  }
 ],
 "metadata": {
  "kernelspec": {
   "display_name": "Python 3 (ipykernel)",
   "language": "python",
   "name": "python3"
  },
  "language_info": {
   "codemirror_mode": {
    "name": "ipython",
    "version": 3
   },
   "file_extension": ".py",
   "mimetype": "text/x-python",
   "name": "python",
   "nbconvert_exporter": "python",
   "pygments_lexer": "ipython3",
   "version": "3.9.13"
  }
 },
 "nbformat": 4,
 "nbformat_minor": 5
}
